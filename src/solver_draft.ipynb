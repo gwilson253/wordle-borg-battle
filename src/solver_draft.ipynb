{
 "cells": [
  {
   "cell_type": "code",
   "execution_count": null,
   "id": "a3744977-af14-4811-b808-ddc98d8eca40",
   "metadata": {},
   "outputs": [],
   "source": [
    "import nltk\n",
    "from nltk.corpus import words\n",
    "import random\n",
    "from wordle import WordleClone"
   ]
  },
  {
   "cell_type": "code",
   "execution_count": null,
   "id": "6f2cb913-6df7-49d2-89a0-a0c2e08f211f",
   "metadata": {
    "scrolled": true
   },
   "outputs": [],
   "source": [
    "# get letter frequency by position\n",
    "def init_word_list():\n",
    "    nltk.download('words', quiet=True)\n",
    "    return [word.upper() for word in words.words() if len(word) == 5 and word.isalpha()]\n",
    "\n",
    "def get_letter_freq(word_list):\n",
    "    letter_freq = {}\n",
    "    for word in words:\n",
    "        for letter in word:\n",
    "            if letter in letter_freq:\n",
    "                letter_freq[letter] += 1\n",
    "            else:\n",
    "                letter_freq[letter] = 1\n",
    "    return sort_letter_freq_dict(letter_freq)\n",
    "\n",
    "def get_letter_freq_by_pos(word_list):\n",
    "    pos_freq = [{}, {}, {}, {}, {}]\n",
    "    for w in word_list:\n",
    "        for i in range(5):\n",
    "            if w[i] in pos_freq[i]:\n",
    "                pos_freq[i][w[i]] += 1\n",
    "            else:\n",
    "                pos_freq[i][w[i]] = 1\n",
    "    return pos_freq\n",
    "\n",
    "def sort_letter_freq_dict(letter_freq_dict):\n",
    "    rslt = [(k, v) for k, v in letter_freq_dict.items()]\n",
    "    return sorted(rslt, key=lambda x: x[1], reverse=True)\n",
    "\n",
    "# filter by known letter location\n",
    "def filter_by_letter_loc(letter, location, word_list):\n",
    "    return [_ for _ in word_list if _[location] == letter]\n",
    "\n",
    "# filter by known letter, deny-list location\n",
    "def filter_by_letter_neg_loc(letter, neg_loc_list, word_list):\n",
    "    for loc in neg_loc_list:\n",
    "        word_list = [_ for _ in word_list if letter in _ and _[loc] != letter]\n",
    "    return word_list\n",
    "\n",
    "def filter_by_unused_letter(letter, word_list):\n",
    "    return [_ for _ in word_list if letter not in _]"
   ]
  },
  {
   "cell_type": "code",
   "execution_count": null,
   "id": "212f3ea5-10ca-43d7-91a0-1adb8a7d8bab",
   "metadata": {},
   "outputs": [],
   "source": [
    "def test_filter_by_letter_loc():\n",
    "    print('testing filter_by_letter_loc')\n",
    "    print(filter_by_letter_loc('A', 0, ['ABBBB', 'BAAAA']) == ['ABBBB'])\n",
    "    print(filter_by_letter_loc('A', 1, ['ABBBB', 'BAAAA']) == ['BAAAA'])\n",
    "    print(filter_by_letter_loc('C', 1, ['ABBBB', 'BAAAA']) == [])\n",
    "\n",
    "def test_filter_by_letter_neg_loc():\n",
    "    print('testing filter_by_letter_neg_loc')\n",
    "    print(filter_by_letter_neg_loc('A', [0], ['ABCDE', 'BACDE']) == ['BACDE'])\n",
    "    print(filter_by_letter_neg_loc('A', [0, 1], ['ABCDE', 'BACDE']) == [])\n",
    "    print(filter_by_letter_neg_loc('F', [0, 1], ['ABCDE', 'BACDE']) == [])\n",
    "\n",
    "test_filter_by_letter_loc()\n",
    "test_filter_by_letter_neg_loc()"
   ]
  },
  {
   "cell_type": "code",
   "execution_count": null,
   "id": "313bbc15-aea8-4cc7-8831-de573193950c",
   "metadata": {
    "scrolled": true
   },
   "outputs": [],
   "source": [
    "get_letter_freq(words)"
   ]
  },
  {
   "cell_type": "code",
   "execution_count": null,
   "id": "d4b91875-868d-4e11-86bd-e8fe8cbe1b48",
   "metadata": {
    "scrolled": true
   },
   "outputs": [],
   "source": [
    "get_letter_freq_by_pos(words)"
   ]
  },
  {
   "cell_type": "code",
   "execution_count": null,
   "id": "eced6455-59ee-413c-8af0-001f47ce0dd3",
   "metadata": {
    "scrolled": true
   },
   "outputs": [],
   "source": [
    "get_letter_freq_by_pos(words)"
   ]
  },
  {
   "cell_type": "markdown",
   "id": "f0dca858-6293-40ff-8fb3-e683af01f8db",
   "metadata": {},
   "source": [
    "# Bootstrap\n",
    "What letters are most commonly used overall?\n",
    "What letters give you the most information as an opening gambit?"
   ]
  },
  {
   "cell_type": "code",
   "execution_count": null,
   "id": "02a7ab4b-80b6-4b3e-ae0b-4aa610f257b3",
   "metadata": {},
   "outputs": [],
   "source": [
    "def generate_guess_word(word_list):\n",
    "    start_word_list = []\n",
    "    for i in range(5):\n",
    "        letter_freq = get_letter_freq_by_pos(word_list)\n",
    "        letter_freq_list = sort_letter_freq_dict(letter_freq[i])\n",
    "        letter_freq_list = [_ for _ in letter_freq_list if _[0] not in start_word_list]\n",
    "        letter_choice = random.choice([_[0] for _ in letter_freq_list][:3]) \n",
    "        start_word_list.append(letter_choice)\n",
    "        word_list = filter_by_letter_loc(letter_choice, i, word_list)\n",
    "    return ''.join(start_word_list)\n",
    "\n",
    "def get_guess_word(word_list):\n",
    "    for attempt in range(5):\n",
    "        try:\n",
    "            return generate_guess_word(word_list)\n",
    "        except Exception as e:\n",
    "            continue"
   ]
  },
  {
   "cell_type": "markdown",
   "id": "4503a931-ec74-4396-8399-1d133ef3352b",
   "metadata": {},
   "source": [
    "# Play the game"
   ]
  },
  {
   "cell_type": "code",
   "execution_count": null,
   "id": "ef8fae21-673a-4e62-8b8c-bfd282a41611",
   "metadata": {},
   "outputs": [],
   "source": [
    "def apply_feedback_to_word_list(guess, feedback, word_list):\n",
    "    for i in range(5):\n",
    "        if feedback[i] == 'G':\n",
    "            word_list = filter_by_letter_loc(guess[i], i, word_list)\n",
    "        elif feedback[i] == 'Y':\n",
    "            word_list = filter_by_letter_neg_loc(guess[i], [i], word_list)\n",
    "        else:\n",
    "            word_list = filter_by_unused_letter(guess[i], word_list)\n",
    "    return word_list"
   ]
  },
  {
   "cell_type": "code",
   "execution_count": null,
   "id": "8b78d10e-20e9-4774-be9c-835438749cbe",
   "metadata": {},
   "outputs": [],
   "source": [
    "def play_wordle():\n",
    "    viable_words = init_word_list()\n",
    "    wc = WordleClone()\n",
    "    while True:\n",
    "        guess = get_guess_word(viable_words)\n",
    "        print(guess)\n",
    "        feedback = wc.guess_word(guess)\n",
    "        print(feedback)\n",
    "        if isinstance(feedback, str) and feedback.startswith('Congratulations!'):\n",
    "            print('Congratulations!')\n",
    "            return True\n",
    "        elif isinstance(feedback, str) and feedback.startswith('Game Over!'):\n",
    "            print('Game Over!')\n",
    "            return False\n",
    "        viable_words = apply_feedback_to_word_list(guess, feedback, viable_words)"
   ]
  },
  {
   "cell_type": "code",
   "execution_count": null,
   "id": "54f37c90-fcff-4082-b98f-d3001a999b60",
   "metadata": {
    "scrolled": true
   },
   "outputs": [],
   "source": [
    "play_wordle()"
   ]
  }
 ],
 "metadata": {
  "kernelspec": {
   "display_name": "Python 3 (ipykernel)",
   "language": "python",
   "name": "python3"
  },
  "language_info": {
   "codemirror_mode": {
    "name": "ipython",
    "version": 3
   },
   "file_extension": ".py",
   "mimetype": "text/x-python",
   "name": "python",
   "nbconvert_exporter": "python",
   "pygments_lexer": "ipython3",
   "version": "3.12.8"
  }
 },
 "nbformat": 4,
 "nbformat_minor": 5
}
